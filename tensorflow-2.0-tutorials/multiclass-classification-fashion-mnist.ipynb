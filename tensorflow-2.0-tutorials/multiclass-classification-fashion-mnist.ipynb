{
 "cells": [
  {
   "cell_type": "markdown",
   "metadata": {},
   "source": [
    "# Multiclass Classification\n",
    "\n",
    "#### Using tensorflow 2.0 at the back end and Keras functional API  "
   ]
  },
  {
   "cell_type": "code",
   "execution_count": 12,
   "metadata": {},
   "outputs": [],
   "source": [
    "import tensorflow as tf \n",
    "from tensorflow import keras\n",
    "import cv2"
   ]
  },
  {
   "cell_type": "markdown",
   "metadata": {},
   "source": [
    "### Load the fashion mnist dataset using the keras.datasets"
   ]
  },
  {
   "cell_type": "code",
   "execution_count": 2,
   "metadata": {
    "scrolled": true
   },
   "outputs": [
    {
     "name": "stdout",
     "output_type": "stream",
     "text": [
      "Downloading data from https://storage.googleapis.com/tensorflow/tf-keras-datasets/train-labels-idx1-ubyte.gz\n",
      "32768/29515 [=================================] - 0s 3us/step\n",
      "Downloading data from https://storage.googleapis.com/tensorflow/tf-keras-datasets/train-images-idx3-ubyte.gz\n",
      "26427392/26421880 [==============================] - 30s 1us/step\n",
      "Downloading data from https://storage.googleapis.com/tensorflow/tf-keras-datasets/t10k-labels-idx1-ubyte.gz\n",
      "8192/5148 [===============================================] - 0s 0us/step\n",
      "Downloading data from https://storage.googleapis.com/tensorflow/tf-keras-datasets/t10k-images-idx3-ubyte.gz\n",
      "4423680/4422102 [==============================] - 5s 1us/step\n"
     ]
    }
   ],
   "source": [
    "fashion_mnist = keras.datasets.fashion_mnist    # Object\n",
    "(X_train, y_train), (X_test, y_test) = fashion_mnist.load_data()    #Function"
   ]
  },
  {
   "cell_type": "markdown",
   "metadata": {},
   "source": [
    "#### Shape and data type of the datasets\n",
    "- 60,000 images of size 28x28 in grey scale"
   ]
  },
  {
   "cell_type": "code",
   "execution_count": 5,
   "metadata": {},
   "outputs": [
    {
     "name": "stdout",
     "output_type": "stream",
     "text": [
      "(60000, 28, 28)\n"
     ]
    },
    {
     "data": {
      "text/plain": [
       "dtype('uint8')"
      ]
     },
     "execution_count": 5,
     "metadata": {},
     "output_type": "execute_result"
    }
   ],
   "source": [
    "print(X_train.shape)\n",
    "X_train.dtype"
   ]
  },
  {
   "cell_type": "markdown",
   "metadata": {},
   "source": [
    "### Normalizing images. \n",
    "- Since gradient descent is used scaling of input features is required.\n",
    "- Using MLP's for image classification. Normalization helps remove noise and helps for faster convergence "
   ]
  },
  {
   "cell_type": "code",
   "execution_count": 7,
   "metadata": {},
   "outputs": [],
   "source": [
    "X_valid, X_train = X_train[:5000] / 255.0, X_train[5000:] / 255.0\n",
    "y_valid, y_train = y_train[:5000], y_train[5000:]"
   ]
  },
  {
   "cell_type": "markdown",
   "metadata": {},
   "source": [
    "### Class names of this dataset"
   ]
  },
  {
   "cell_type": "code",
   "execution_count": 8,
   "metadata": {},
   "outputs": [],
   "source": [
    "class_names = [\"T-shirt/top\", \"Trouser\", \"Pullover\", \"Dress\", \"Coat\",\n",
    "\"Sandal\", \"Shirt\", \"Sneaker\", \"Bag\", \"Ankle boot\"]"
   ]
  },
  {
   "cell_type": "code",
   "execution_count": 11,
   "metadata": {},
   "outputs": [
    {
     "data": {
      "text/plain": [
       "'Coat'"
      ]
     },
     "execution_count": 11,
     "metadata": {},
     "output_type": "execute_result"
    }
   ],
   "source": [
    "class_names[y_train[0]]"
   ]
  },
  {
   "cell_type": "markdown",
   "metadata": {},
   "source": [
    "### View sample from the dataset\n",
    "- Plot images\n"
   ]
  },
  {
   "cell_type": "code",
   "execution_count": 59,
   "metadata": {},
   "outputs": [
    {
     "data": {
      "image/png": "[encoded data removed]",
      "text/plain": [
       "<Figure size 864x432 with 8 Axes>"
      ]
     },
     "metadata": {
      "needs_background": "light"
     },
     "output_type": "display_data"
    }
   ],
   "source": [
    "import matplotlib.pyplot as plt \n",
    "fig, ax = plt.subplots(2, 4, figsize=(12, 6))\n",
    "k = 0\n",
    "for i in range(2):\n",
    "    for j in range(4):\n",
    "        ax[i, j].imshow(X_train[k], cmap='gray', vmin=0, vmax=1)\n",
    "        ax[i, j].set_title(class_names[y_train[k]], fontsize = 12)\n",
    "        k+=1\n",
    "plt.show()"
   ]
  },
  {
   "cell_type": "markdown",
   "metadata": {},
   "source": [
    "### Build a sequential keras model\n",
    "- MLP (Multi layer perceptron)"
   ]
  },
  {
   "cell_type": "code",
   "execution_count": 60,
   "metadata": {},
   "outputs": [],
   "source": [
    "model = keras.Sequential([\n",
    "    keras.layers.Flatten(input_shape = [28, 28]),\n",
    "    keras.layers.Dense(300, activation='relu'),\n",
    "    keras.layers.Dense(100, activation='relu'),\n",
    "    keras.layers.Dense(10, activation='softmax')\n",
    "\n",
    "])\n"
   ]
  },
  {
   "cell_type": "markdown",
   "metadata": {},
   "source": [
    "### Compile the model\n",
    "- loss: sparse_categorical_crossentropy\n",
    "- metrics: accuracy\n",
    "- optimizer: Stochastic gradient descent"
   ]
  },
  {
   "cell_type": "code",
   "execution_count": 61,
   "metadata": {},
   "outputs": [],
   "source": [
    "model.compile(loss=\"sparse_categorical_crossentropy\",\n",
    "              optimizer=\"sgd\",\n",
    "              metrics=[\"accuracy\"]\n",
    "             )"
   ]
  },
  {
   "cell_type": "markdown",
   "metadata": {},
   "source": [
    "### Summary of the model"
   ]
  },
  {
   "cell_type": "code",
   "execution_count": 62,
   "metadata": {},
   "outputs": [
    {
     "name": "stdout",
     "output_type": "stream",
     "text": [
      "Model: \"sequential\"\n",
      "_________________________________________________________________\n",
      "Layer (type)                 Output Shape              Param #   \n",
      "=================================================================\n",
      "flatten (Flatten)            (None, 784)               0         \n",
      "_________________________________________________________________\n",
      "dense (Dense)                (None, 300)               235500    \n",
      "_________________________________________________________________\n",
      "dense_1 (Dense)              (None, 100)               30100     \n",
      "_________________________________________________________________\n",
      "dense_2 (Dense)              (None, 10)                1010      \n",
      "=================================================================\n",
      "Total params: 266,610\n",
      "Trainable params: 266,610\n",
      "Non-trainable params: 0\n",
      "_________________________________________________________________\n"
     ]
    }
   ],
   "source": [
    "model.summary()"
   ]
  },
  {
   "cell_type": "markdown",
   "metadata": {},
   "source": [
    "### Trraining and evaluating the model"
   ]
  },
  {
   "cell_type": "code",
   "execution_count": 64,
   "metadata": {},
   "outputs": [
    {
     "name": "stdout",
     "output_type": "stream",
     "text": [
      "Train on 55000 samples, validate on 5000 samples\n",
      "Epoch 1/30\n",
      "55000/55000 [==============================] - 6s 100us/sample - loss: 0.7106 - accuracy: 0.7623 - val_loss: 0.5081 - val_accuracy: 0.8338\n",
      "Epoch 2/30\n",
      "55000/55000 [==============================] - 4s 72us/sample - loss: 0.4893 - accuracy: 0.8293 - val_loss: 0.4396 - val_accuracy: 0.8536\n",
      "Epoch 3/30\n",
      "55000/55000 [==============================] - 4s 71us/sample - loss: 0.4462 - accuracy: 0.8436 - val_loss: 0.4171 - val_accuracy: 0.8602\n",
      "Epoch 4/30\n",
      "55000/55000 [==============================] - 4s 77us/sample - loss: 0.4197 - accuracy: 0.8529 - val_loss: 0.4034 - val_accuracy: 0.8636\n",
      "Epoch 5/30\n",
      "55000/55000 [==============================] - 4s 78us/sample - loss: 0.3983 - accuracy: 0.8601 - val_loss: 0.3974 - val_accuracy: 0.8638\n",
      "Epoch 6/30\n",
      "55000/55000 [==============================] - 4s 76us/sample - loss: 0.3825 - accuracy: 0.8658 - val_loss: 0.3698 - val_accuracy: 0.8776\n",
      "Epoch 7/30\n",
      "55000/55000 [==============================] - 4s 73us/sample - loss: 0.3683 - accuracy: 0.8706 - val_loss: 0.3634 - val_accuracy: 0.8746\n",
      "Epoch 8/30\n",
      "55000/55000 [==============================] - 4s 75us/sample - loss: 0.3561 - accuracy: 0.8730 - val_loss: 0.3928 - val_accuracy: 0.8666\n",
      "Epoch 9/30\n",
      "55000/55000 [==============================] - 4s 81us/sample - loss: 0.3454 - accuracy: 0.8768 - val_loss: 0.3791 - val_accuracy: 0.8724\n",
      "Epoch 10/30\n",
      "55000/55000 [==============================] - 4s 75us/sample - loss: 0.3354 - accuracy: 0.8806 - val_loss: 0.3789 - val_accuracy: 0.8662\n",
      "Epoch 11/30\n",
      "55000/55000 [==============================] - 4s 72us/sample - loss: 0.3268 - accuracy: 0.8832 - val_loss: 0.3499 - val_accuracy: 0.8752\n",
      "Epoch 12/30\n",
      "55000/55000 [==============================] - 4s 73us/sample - loss: 0.3189 - accuracy: 0.8855 - val_loss: 0.3376 - val_accuracy: 0.8808\n",
      "Epoch 13/30\n",
      "55000/55000 [==============================] - 4s 80us/sample - loss: 0.3107 - accuracy: 0.8893 - val_loss: 0.3311 - val_accuracy: 0.8842\n",
      "Epoch 14/30\n",
      "55000/55000 [==============================] - 4s 79us/sample - loss: 0.3038 - accuracy: 0.8922 - val_loss: 0.3322 - val_accuracy: 0.8832\n",
      "Epoch 15/30\n",
      "55000/55000 [==============================] - 5s 83us/sample - loss: 0.2971 - accuracy: 0.8931 - val_loss: 0.3285 - val_accuracy: 0.8820\n",
      "Epoch 16/30\n",
      "55000/55000 [==============================] - 4s 76us/sample - loss: 0.2920 - accuracy: 0.8947 - val_loss: 0.3182 - val_accuracy: 0.8894\n",
      "Epoch 17/30\n",
      "55000/55000 [==============================] - 4s 73us/sample - loss: 0.2852 - accuracy: 0.8973 - val_loss: 0.3319 - val_accuracy: 0.8814\n",
      "Epoch 18/30\n",
      "55000/55000 [==============================] - 5s 86us/sample - loss: 0.2787 - accuracy: 0.8989 - val_loss: 0.3388 - val_accuracy: 0.8798\n",
      "Epoch 19/30\n",
      "55000/55000 [==============================] - 5s 85us/sample - loss: 0.2742 - accuracy: 0.9012 - val_loss: 0.3104 - val_accuracy: 0.8914\n",
      "Epoch 20/30\n",
      "55000/55000 [==============================] - 5s 87us/sample - loss: 0.2680 - accuracy: 0.9034 - val_loss: 0.3135 - val_accuracy: 0.8890\n",
      "Epoch 21/30\n",
      "55000/55000 [==============================] - 5s 89us/sample - loss: 0.2636 - accuracy: 0.9053 - val_loss: 0.3100 - val_accuracy: 0.8868\n",
      "Epoch 22/30\n",
      "55000/55000 [==============================] - 5s 92us/sample - loss: 0.2598 - accuracy: 0.9066 - val_loss: 0.3025 - val_accuracy: 0.8904\n",
      "Epoch 23/30\n",
      "55000/55000 [==============================] - 5s 96us/sample - loss: 0.2547 - accuracy: 0.9081 - val_loss: 0.3026 - val_accuracy: 0.8924\n",
      "Epoch 24/30\n",
      "55000/55000 [==============================] - 5s 90us/sample - loss: 0.2497 - accuracy: 0.9101 - val_loss: 0.2964 - val_accuracy: 0.8912\n",
      "Epoch 25/30\n",
      "55000/55000 [==============================] - 5s 89us/sample - loss: 0.2457 - accuracy: 0.9119 - val_loss: 0.3125 - val_accuracy: 0.8836\n",
      "Epoch 26/30\n",
      "55000/55000 [==============================] - 5s 92us/sample - loss: 0.2413 - accuracy: 0.9123 - val_loss: 0.2931 - val_accuracy: 0.8976\n",
      "Epoch 27/30\n",
      "55000/55000 [==============================] - 5s 96us/sample - loss: 0.2366 - accuracy: 0.9157 - val_loss: 0.3114 - val_accuracy: 0.8890\n",
      "Epoch 28/30\n",
      "55000/55000 [==============================] - 5s 96us/sample - loss: 0.2335 - accuracy: 0.9153 - val_loss: 0.2942 - val_accuracy: 0.8970\n",
      "Epoch 29/30\n",
      "55000/55000 [==============================] - 6s 108us/sample - loss: 0.2288 - accuracy: 0.9188 - val_loss: 0.2965 - val_accuracy: 0.8938\n",
      "Epoch 30/30\n",
      "55000/55000 [==============================] - 5s 100us/sample - loss: 0.2246 - accuracy: 0.9201 - val_loss: 0.3000 - val_accuracy: 0.8972\n"
     ]
    }
   ],
   "source": [
    "history = model.fit(X_train, y_train, epochs=30,\n",
    "                   validation_data=(X_valid, y_valid))"
   ]
  },
  {
   "cell_type": "markdown",
   "metadata": {},
   "source": [
    "### Plot accuracy and loss curves using history object"
   ]
  },
  {
   "cell_type": "code",
   "execution_count": 65,
   "metadata": {},
   "outputs": [],
   "source": [
    "import pandas as pd\n"
   ]
  },
  {
   "cell_type": "code",
   "execution_count": 67,
   "metadata": {},
   "outputs": [
    {
     "data": {
      "image/png": "[encoded data removed]",
      "text/plain": [
       "<Figure size 576x360 with 1 Axes>"
      ]
     },
     "metadata": {
      "needs_background": "light"
     },
     "output_type": "display_data"
    }
   ],
   "source": [
    "pd.DataFrame(history.history).plot(figsize=(8, 5))\n",
    "plt.grid(True)\n",
    "plt.gca().set_ylim(0, 1) # set the vertical range to [0-1]\n",
    "plt.show()"
   ]
  },
  {
   "cell_type": "markdown",
   "metadata": {},
   "source": [
    "### Evaluate and Predict"
   ]
  },
  {
   "cell_type": "code",
   "execution_count": 68,
   "metadata": {},
   "outputs": [
    {
     "name": "stdout",
     "output_type": "stream",
     "text": [
      "10000/10000 [==============================] - 0s 46us/sample - loss: 73.3966 - accuracy: 0.8391\n"
     ]
    },
    {
     "data": {
      "text/plain": [
       "[73.39657755889893, 0.8391]"
      ]
     },
     "execution_count": 68,
     "metadata": {},
     "output_type": "execute_result"
    }
   ],
   "source": [
    "model.evaluate(X_test, y_test)"
   ]
  },
  {
   "cell_type": "code",
   "execution_count": 69,
   "metadata": {},
   "outputs": [
    {
     "name": "stdout",
     "output_type": "stream",
     "text": [
      "[[[0 0 0 ... 0 0 0]\n",
      "  [0 0 0 ... 0 0 0]\n",
      "  [0 0 0 ... 0 0 0]\n",
      "  ...\n",
      "  [0 0 0 ... 0 0 0]\n",
      "  [0 0 0 ... 0 0 0]\n",
      "  [0 0 0 ... 0 0 0]]\n",
      "\n",
      " [[0 0 0 ... 0 0 0]\n",
      "  [0 0 0 ... 0 0 0]\n",
      "  [0 0 0 ... 0 0 0]\n",
      "  ...\n",
      "  [0 0 0 ... 0 0 0]\n",
      "  [0 0 0 ... 0 0 0]\n",
      "  [0 0 0 ... 0 0 0]]\n",
      "\n",
      " [[0 0 0 ... 0 0 0]\n",
      "  [0 0 0 ... 0 0 0]\n",
      "  [0 0 0 ... 0 0 0]\n",
      "  ...\n",
      "  [0 0 0 ... 0 0 0]\n",
      "  [0 0 0 ... 0 0 0]\n",
      "  [0 0 0 ... 0 0 0]]]\n"
     ]
    }
   ],
   "source": [
    "X_instance = X_test[:3]\n",
    "print(X_instance)\n",
    "# y_prob = model.predict(X_)\n",
    "# y_prob.round(2)"
   ]
  },
  {
   "cell_type": "code",
   "execution_count": null,
   "metadata": {},
   "outputs": [],
   "source": []
  }
 ],
 "metadata": {
  "kernelspec": {
   "display_name": "Python 3",
   "language": "python",
   "name": "python3"
  },
  "language_info": {
   "codemirror_mode": {
    "name": "ipython",
    "version": 3
   },
   "file_extension": ".py",
   "mimetype": "text/x-python",
   "name": "python",
   "nbconvert_exporter": "python",
   "pygments_lexer": "ipython3",
   "version": "3.7.7"
  }
 },
 "nbformat": 4,
 "nbformat_minor": 4
}
